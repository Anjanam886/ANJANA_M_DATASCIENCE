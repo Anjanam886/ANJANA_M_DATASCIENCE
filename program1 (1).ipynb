{
  "nbformat": 4,
  "nbformat_minor": 0,
  "metadata": {
    "colab": {
      "provenance": []
    },
    "kernelspec": {
      "name": "python3",
      "display_name": "Python 3"
    },
    "language_info": {
      "name": "python"
    }
  },
  "cells": [
    {
      "cell_type": "markdown",
      "source": [
        "Basic Array Creation"
      ],
      "metadata": {
        "id": "YN7_tQUWykgR"
      }
    },
    {
      "cell_type": "code",
      "source": [
        "import numpy as np\n",
        "array_from_list=np.array([1,2,3,4,5])\n",
        "print(\"Array from list:\",array_from_list)"
      ],
      "metadata": {
        "colab": {
          "base_uri": "https://localhost:8080/"
        },
        "id": "eNovRXNYyroK",
        "outputId": "c236e98a-d4aa-4830-f541-8d5861ad3ebb"
      },
      "execution_count": null,
      "outputs": [
        {
          "output_type": "stream",
          "name": "stdout",
          "text": [
            "Array from list: [1 2 3 4 5]\n"
          ]
        }
      ]
    },
    {
      "cell_type": "code",
      "source": [
        "array_with_range=np.arange(10)\n",
        "print(\"Array with range:\",array_with_range)\n"
      ],
      "metadata": {
        "id": "mGHR2z-MzPr3",
        "colab": {
          "base_uri": "https://localhost:8080/"
        },
        "outputId": "0c4a1197-4b47-41a6-d9cd-d9fbe7b3c4ab"
      },
      "execution_count": null,
      "outputs": [
        {
          "output_type": "stream",
          "name": "stdout",
          "text": [
            "Array with range: [0 1 2 3 4 5 6 7 8 9]\n"
          ]
        }
      ]
    },
    {
      "cell_type": "code",
      "execution_count": null,
      "metadata": {
        "id": "I8dloqVIyjor"
      },
      "outputs": [],
      "source": []
    },
    {
      "cell_type": "markdown",
      "source": [
        "creating an array with a range of values"
      ],
      "metadata": {
        "id": "tVtxlPWMzKTT"
      }
    },
    {
      "cell_type": "markdown",
      "source": [
        "creating an array of zeros"
      ],
      "metadata": {
        "id": "EoIMZr221pm7"
      }
    },
    {
      "cell_type": "code",
      "source": [
        "zeros_array=np.zeros((3,3))\n",
        "print(\"Array of zeros:\\n\",zeros_array)"
      ],
      "metadata": {
        "colab": {
          "base_uri": "https://localhost:8080/"
        },
        "id": "Fn02duIg1w0E",
        "outputId": "1d491c6f-c59e-4faf-f3d5-bd21b063d73e"
      },
      "execution_count": null,
      "outputs": [
        {
          "output_type": "stream",
          "name": "stdout",
          "text": [
            "Array of zeros:\n",
            " [[0. 0. 0.]\n",
            " [0. 0. 0.]\n",
            " [0. 0. 0.]]\n"
          ]
        }
      ]
    },
    {
      "cell_type": "markdown",
      "source": [
        "creating an array of ones"
      ],
      "metadata": {
        "id": "LK2Ipas32NRs"
      }
    },
    {
      "cell_type": "code",
      "source": [
        "ones_array=np.ones((2,5))\n",
        "print(\"Array of ones:\\n\",ones_array)"
      ],
      "metadata": {
        "colab": {
          "base_uri": "https://localhost:8080/"
        },
        "id": "hoC5bi2n2TNj",
        "outputId": "a4027e35-0c60-4bf4-ba02-41b6b0fcf8ed"
      },
      "execution_count": null,
      "outputs": [
        {
          "output_type": "stream",
          "name": "stdout",
          "text": [
            "Array of ones:\n",
            " [[1. 1. 1. 1. 1.]\n",
            " [1. 1. 1. 1. 1.]]\n"
          ]
        }
      ]
    },
    {
      "cell_type": "markdown",
      "source": [
        "Array Operations"
      ],
      "metadata": {
        "id": "cDPoO0HvtlW_"
      }
    },
    {
      "cell_type": "code",
      "source": [
        "import numpy as np\n",
        "a=np.array([1,2,3])\n",
        "b=np.array([4,5,6])\n",
        "print(a)\n",
        "print(b)"
      ],
      "metadata": {
        "colab": {
          "base_uri": "https://localhost:8080/"
        },
        "id": "oi816Nrltv2k",
        "outputId": "af5d4b22-2755-45ce-c195-5e8b3b83e483"
      },
      "execution_count": null,
      "outputs": [
        {
          "output_type": "stream",
          "name": "stdout",
          "text": [
            "[1 2 3]\n",
            "[4 5 6]\n"
          ]
        }
      ]
    },
    {
      "cell_type": "markdown",
      "source": [
        "element-wise addition"
      ],
      "metadata": {
        "id": "poWIKWjcu6qO"
      }
    },
    {
      "cell_type": "code",
      "source": [
        "add_result=np.add(a,b)\n",
        "print(\"Addition:\",add_result)"
      ],
      "metadata": {
        "colab": {
          "base_uri": "https://localhost:8080/"
        },
        "id": "nBhAQxE9vARX",
        "outputId": "a2f0c30b-ad51-4ef5-b120-df18e5ac78d7"
      },
      "execution_count": null,
      "outputs": [
        {
          "output_type": "stream",
          "name": "stdout",
          "text": [
            "Addition: [5 7 9]\n"
          ]
        }
      ]
    },
    {
      "cell_type": "markdown",
      "source": [
        "element-wise subtraction"
      ],
      "metadata": {
        "id": "hWpOv6EnvNvg"
      }
    },
    {
      "cell_type": "code",
      "source": [
        "sub_result=np.subtract(a,b)\n",
        "print(\"Subtractio:\",sub_result)"
      ],
      "metadata": {
        "colab": {
          "base_uri": "https://localhost:8080/"
        },
        "id": "xVPsv0uwvSew",
        "outputId": "1268d898-73d7-4485-8630-09cd7504997a"
      },
      "execution_count": null,
      "outputs": [
        {
          "output_type": "stream",
          "name": "stdout",
          "text": [
            "Subtractio: [-3 -3 -3]\n"
          ]
        }
      ]
    },
    {
      "cell_type": "markdown",
      "source": [
        "element"
      ],
      "metadata": {
        "id": "UF5SzeTKv-Pq"
      }
    },
    {
      "cell_type": "code",
      "source": [
        "mul_result=np.multiply(a,b)\n",
        "print(\"Multiplication:\",mul_result)"
      ],
      "metadata": {
        "colab": {
          "base_uri": "https://localhost:8080/"
        },
        "id": "OCbaQtCnwAlC",
        "outputId": "3ecc3bf4-e879-4d9e-e1c2-5c5f17354140"
      },
      "execution_count": null,
      "outputs": [
        {
          "output_type": "stream",
          "name": "stdout",
          "text": [
            "Multiplication: [ 4 10 18]\n"
          ]
        }
      ]
    },
    {
      "cell_type": "markdown",
      "source": [
        "element-wise division"
      ],
      "metadata": {
        "id": "FpA0FaP2walb"
      }
    },
    {
      "cell_type": "code",
      "source": [
        "div_result=np.divide(a,b)\n",
        "print(\"Division:\",div_result)"
      ],
      "metadata": {
        "colab": {
          "base_uri": "https://localhost:8080/"
        },
        "id": "tSLoJ2rrwiH-",
        "outputId": "48a55e6f-a094-4258-dc31-d9f9e5164358"
      },
      "execution_count": null,
      "outputs": [
        {
          "output_type": "stream",
          "name": "stdout",
          "text": [
            "Division: [0.25 0.4  0.5 ]\n"
          ]
        }
      ]
    },
    {
      "cell_type": "markdown",
      "source": [
        "creating a 1D array"
      ],
      "metadata": {
        "id": "oKPHKGMDw5Zc"
      }
    },
    {
      "cell_type": "code",
      "source": [
        "array=np.arange(12)\n",
        "print(\"Original array:\",array)"
      ],
      "metadata": {
        "colab": {
          "base_uri": "https://localhost:8080/"
        },
        "id": "gcS_BkKyw_9R",
        "outputId": "15825208-7921-4293-cdf9-c0b6f2f60f5c"
      },
      "execution_count": null,
      "outputs": [
        {
          "output_type": "stream",
          "name": "stdout",
          "text": [
            "Original array: [ 0  1  2  3  4  5  6  7  8  9 10 11]\n"
          ]
        }
      ]
    },
    {
      "cell_type": "markdown",
      "source": [
        "reshaping to 2D array(3X4)"
      ],
      "metadata": {
        "id": "fl9AeZK7xUfS"
      }
    },
    {
      "cell_type": "code",
      "source": [
        "reshaped_array=array.reshape((3,4))\n",
        "print(\"Reshaped to 3x4:\\n\",reshaped_array)"
      ],
      "metadata": {
        "colab": {
          "base_uri": "https://localhost:8080/"
        },
        "id": "6ZU7Lv6TxjRK",
        "outputId": "97952791-c5ca-4242-84d6-ae263bbe8744"
      },
      "execution_count": null,
      "outputs": [
        {
          "output_type": "stream",
          "name": "stdout",
          "text": [
            "Reshaped to 3x4:\n",
            " [[ 0  1  2  3]\n",
            " [ 4  5  6  7]\n",
            " [ 8  9 10 11]]\n"
          ]
        }
      ]
    },
    {
      "cell_type": "markdown",
      "source": [
        "reshaping to 3D array(2x3x2)"
      ],
      "metadata": {
        "id": "kauP90Nbx6Q4"
      }
    },
    {
      "cell_type": "code",
      "source": [
        "reshaped_array_3d=array.reshape((2,3,2))\n",
        "print(\"Reshaped to 2x3x2:\\n\",reshaped_array_3d)"
      ],
      "metadata": {
        "colab": {
          "base_uri": "https://localhost:8080/"
        },
        "id": "ChQeUWKByIdQ",
        "outputId": "fb9b2bb7-0095-44fa-fcc7-36561181dac8"
      },
      "execution_count": null,
      "outputs": [
        {
          "output_type": "stream",
          "name": "stdout",
          "text": [
            "Reshaped to 2x3x2:\n",
            " [[[ 0  1]\n",
            "  [ 2  3]\n",
            "  [ 4  5]]\n",
            "\n",
            " [[ 6  7]\n",
            "  [ 8  9]\n",
            "  [10 11]]]\n"
          ]
        }
      ]
    },
    {
      "cell_type": "markdown",
      "source": [
        "creating a 2D array"
      ],
      "metadata": {
        "id": "0IBQ6C9EyxOQ"
      }
    },
    {
      "cell_type": "code",
      "source": [
        "array_2d=np.array([[1,2,3],[4,5,6],[7,8,9]])\n",
        "print(\"2D Array:\\n\",array_2d)"
      ],
      "metadata": {
        "colab": {
          "base_uri": "https://localhost:8080/"
        },
        "id": "9vO3JwOUy1hc",
        "outputId": "cdeceac8-6472-418c-bf58-0c5dc852cc80"
      },
      "execution_count": null,
      "outputs": [
        {
          "output_type": "stream",
          "name": "stdout",
          "text": [
            "2D Array:\n",
            " [[1 2 3]\n",
            " [4 5 6]\n",
            " [7 8 9]]\n"
          ]
        }
      ]
    },
    {
      "cell_type": "markdown",
      "source": [
        "Accessing element at(1,2)"
      ],
      "metadata": {
        "id": "6pAkjoSB0Kiu"
      }
    },
    {
      "cell_type": "code",
      "source": [
        "element=array_2d[1,2]\n",
        "print(\"Element at (1,2):\",element)"
      ],
      "metadata": {
        "colab": {
          "base_uri": "https://localhost:8080/"
        },
        "id": "RjZ0WH6i0TyC",
        "outputId": "26bee145-069d-4f18-8e00-83445ade3d11"
      },
      "execution_count": null,
      "outputs": [
        {
          "output_type": "stream",
          "name": "stdout",
          "text": [
            "Element at (1,2): 6\n"
          ]
        }
      ]
    },
    {
      "cell_type": "markdown",
      "source": [
        "Slicing a subarray(rows 1 to 2,columns 0 to 1)"
      ],
      "metadata": {
        "id": "WDq1Qkeo00ek"
      }
    },
    {
      "cell_type": "code",
      "source": [
        "subarray=array_2d[1:3,0:2]\n",
        "print(\"Sliced subarray:\\n\",subarray)"
      ],
      "metadata": {
        "colab": {
          "base_uri": "https://localhost:8080/"
        },
        "id": "oCV9BRmX1Agx",
        "outputId": "988e416d-83e3-4dc0-dea9-7876f4596ee0"
      },
      "execution_count": null,
      "outputs": [
        {
          "output_type": "stream",
          "name": "stdout",
          "text": [
            "Sliced subarray:\n",
            " [[4 5]\n",
            " [7 8]]\n"
          ]
        }
      ]
    },
    {
      "cell_type": "markdown",
      "source": [
        "Accessing a column(all rows,column1)"
      ],
      "metadata": {
        "id": "emioup9_10m7"
      }
    },
    {
      "cell_type": "code",
      "source": [
        "column=array_2d[:,1]\n",
        "print(\"Column1:\",column)"
      ],
      "metadata": {
        "colab": {
          "base_uri": "https://localhost:8080/"
        },
        "id": "KBMSGWBt2DLz",
        "outputId": "6f759dbb-a27d-4c96-e9bb-0e2968fda6ad"
      },
      "execution_count": null,
      "outputs": [
        {
          "output_type": "stream",
          "name": "stdout",
          "text": [
            "Column1: [2 5 8]\n"
          ]
        }
      ]
    },
    {
      "cell_type": "markdown",
      "source": [
        "statistical operations\n",
        "creating an array"
      ],
      "metadata": {
        "id": "x2aTyhZH2XBe"
      }
    },
    {
      "cell_type": "code",
      "source": [
        "array=np.array([1,2,3,4,5,6,7,8,9,10])\n"
      ],
      "metadata": {
        "id": "Sj34gTOo2jMU"
      },
      "execution_count": null,
      "outputs": []
    },
    {
      "cell_type": "markdown",
      "source": [
        "Calculating mean"
      ],
      "metadata": {
        "id": "LBrxQann2xWw"
      }
    },
    {
      "cell_type": "code",
      "source": [
        "mean=np.mean(array)\n",
        "print(\"Mean:\",mean)"
      ],
      "metadata": {
        "colab": {
          "base_uri": "https://localhost:8080/"
        },
        "id": "2PaOferu24xH",
        "outputId": "8d72e0ab-4f59-4953-bf3b-a11af567aeae"
      },
      "execution_count": null,
      "outputs": [
        {
          "output_type": "stream",
          "name": "stdout",
          "text": [
            "Mean: 5.5\n"
          ]
        }
      ]
    },
    {
      "cell_type": "markdown",
      "source": [
        "Calculating median"
      ],
      "metadata": {
        "id": "1DChP75z3LsR"
      }
    },
    {
      "cell_type": "code",
      "source": [
        "median=np.median(array)\n",
        "print(\"Median:\",median)"
      ],
      "metadata": {
        "colab": {
          "base_uri": "https://localhost:8080/"
        },
        "id": "3ob4-CXg3Tww",
        "outputId": "192535e7-c697-4861-c723-09c20d3782c2"
      },
      "execution_count": null,
      "outputs": [
        {
          "output_type": "stream",
          "name": "stdout",
          "text": [
            "Median: 5.5\n"
          ]
        }
      ]
    },
    {
      "cell_type": "markdown",
      "source": [
        "Calculating standard deviation"
      ],
      "metadata": {
        "id": "yvulY0xv30P0"
      }
    },
    {
      "cell_type": "code",
      "source": [
        "std_dev=np.std(array)\n",
        "print(\"Standard Deviation:\",std_dev)"
      ],
      "metadata": {
        "colab": {
          "base_uri": "https://localhost:8080/"
        },
        "id": "IuG-vWkK38Iz",
        "outputId": "119eed14-28ee-455a-9850-813ca698a540"
      },
      "execution_count": null,
      "outputs": [
        {
          "output_type": "stream",
          "name": "stdout",
          "text": [
            "Standard Deviation: 2.8722813232690143\n"
          ]
        }
      ]
    },
    {
      "cell_type": "markdown",
      "source": [
        "Finding minimum and maximum values"
      ],
      "metadata": {
        "id": "IGBuTLCs4eJk"
      }
    },
    {
      "cell_type": "code",
      "source": [
        "min_val=np.min(array)\n",
        "max_val=np.max(array)\n",
        "print(\"Minimum value:\",min_val)\n",
        "print(\"Maximum value:\",max_val)"
      ],
      "metadata": {
        "colab": {
          "base_uri": "https://localhost:8080/"
        },
        "id": "4mVRQJXs4tqD",
        "outputId": "49291503-c1db-42f8-8006-e56ac307684f"
      },
      "execution_count": null,
      "outputs": [
        {
          "output_type": "stream",
          "name": "stdout",
          "text": [
            "Minimum value: 1\n",
            "Maximum value: 10\n"
          ]
        }
      ]
    }
  ]
}