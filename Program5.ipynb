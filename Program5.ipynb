{
  "nbformat": 4,
  "nbformat_minor": 0,
  "metadata": {
    "colab": {
      "provenance": []
    },
    "kernelspec": {
      "name": "python3",
      "display_name": "Python 3"
    },
    "language_info": {
      "name": "python"
    }
  },
  "cells": [
    {
      "cell_type": "code",
      "execution_count": null,
      "metadata": {
        "id": "WawbtTwVN_2B"
      },
      "outputs": [],
      "source": []
    },
    {
      "cell_type": "markdown",
      "source": [
        "find the value of X"
      ],
      "metadata": {
        "id": "K6eDoM0_OA3X"
      }
    },
    {
      "cell_type": "code",
      "source": [
        "import numpy as np\n",
        "A=np.array([[2,1,-2],[3,0,1],[1,1,-1]])\n",
        "b=np.array([-3,5,-2])\n",
        "X=np.linalg.solve(A,b)\n",
        "print(\"Matrix A:\")\n",
        "print(A)\n",
        "print(\"Vector b:\")\n",
        "print(b)\n",
        "print(\"Solution for X:\")\n",
        "print(X)\n",
        "\n"
      ],
      "metadata": {
        "colab": {
          "base_uri": "https://localhost:8080/"
        },
        "id": "TDbVF30DONwk",
        "outputId": "972ff37b-0030-4276-97c1-df3e029e451a"
      },
      "execution_count": null,
      "outputs": [
        {
          "output_type": "stream",
          "name": "stdout",
          "text": [
            "Matrix A:\n",
            "[[ 2  1 -2]\n",
            " [ 3  0  1]\n",
            " [ 1  1 -1]]\n",
            "Vector b:\n",
            "[-3  5 -2]\n",
            "Solution for X:\n",
            "[ 1. -1.  2.]\n"
          ]
        }
      ]
    }
  ]
}